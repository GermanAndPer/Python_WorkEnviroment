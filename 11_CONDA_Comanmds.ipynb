{
 "cells": [
  {
   "cell_type": "markdown",
   "id": "30927428",
   "metadata": {},
   "source": [
    "# 🐍 CONDA Comands\n",
    "\n",
    "Los comandos para conda son:\n",
    "\n",
    "- conda activate\n",
    "- conda clean\n",
    "- conda compare\n",
    "- conda config\n",
    "- conda create\n",
    "- conda deactivate\n",
    "- conda doctor\n",
    "- conda env\n",
    "- conda info\n",
    "- conda init\n",
    "- conda install\n",
    "- conda list\n",
    "- conda notices\n",
    "- conda package\n",
    "- conda repoquery\n",
    "- conda remove\n",
    "- conda rename\n",
    "- conda run\n",
    "- conda search\n",
    "- conda update\n",
    "\n",
    "Para saber mas de los comandos de CONDA Acceder al siguiente link:\n",
    "\n",
    "[![](https://docs.conda.io/projects/conda/en/latest/_static/conda_logo_full.svg)](https://docs.conda.io/projects/conda/en/latest/commands/index.html)\n",
    "\n",
    "\n"
   ]
  }
 ],
 "metadata": {
  "kernelspec": {
   "display_name": "py3_10_18",
   "language": "python",
   "name": "python3"
  },
  "language_info": {
   "name": "python",
   "version": "3.11.5"
  }
 },
 "nbformat": 4,
 "nbformat_minor": 5
}
