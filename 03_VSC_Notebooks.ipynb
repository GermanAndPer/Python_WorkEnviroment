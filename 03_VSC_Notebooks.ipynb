{
 "cells": [
  {
   "cell_type": "markdown",
   "id": "bc8830d7",
   "metadata": {},
   "source": [
    "# ___🪐📚Jupyter NoteBooks en VSC 📚🪐___\n",
    "----------------------------"
   ]
  },
  {
   "cell_type": "markdown",
   "id": "f30f58f1",
   "metadata": {},
   "source": [
    "Despues de haber instalado todas las aplicaciones, de manera automatica si quisieramos ejecutar un codigo de Python lo hariamos.\n",
    "\n",
    "En caso de que no deje, seria necesario que elijamos un ___interprete___ .(Version)\n",
    "\n",
    "VSC nos estará guiando para lograrlo."
   ]
  },
  {
   "cell_type": "code",
   "execution_count": null,
   "id": "ce003990",
   "metadata": {},
   "outputs": [],
   "source": [
    "print(\"Hello, World\")"
   ]
  },
  {
   "cell_type": "markdown",
   "id": "1dc26cc4",
   "metadata": {},
   "source": [
    "## 🔎 Barra de Busqueda\n",
    "\n",
    "Para ir a la barra de ___busqueda/Comandos___ presionamos el siguiente comando\n",
    "\n",
    "```SH\n",
    "CONTROL + SHIFT + P       ///       F1\n",
    "```\n",
    "Estando ahí podemos acceder a diferentes funciones.\n",
    "\n",
    "### 🗒️FORMAT DOCUMEN\n",
    "\n",
    "Por ejemplo:\n",
    "\n",
    "```SH\n",
    "FORMAT DOCUMEN\n",
    "```\n",
    "o\n",
    "```SH\n",
    "ALT + SHIFT + F\n",
    "```\n",
    "Nos ayudará a ordenar la sintaxis del codigo que hayamos escrito. 🗒️🖊️\n",
    "\n",
    "Haciendolo mas legible y entendible. 👀🧠\n",
    "\n",
    "Si se busca:\n",
    "### ⚙️SORT IMPORTS\n",
    "Otra opcion es ⚙️SORT IMPORTS\n",
    "\n",
    "Ayuda a ordenar alfabeticamente el codigo.\n",
    "\n",
    "Por ejemplo todas las librerias importadas. 📚\n"
   ]
  },
  {
   "attachments": {
    "image.png": {
     "image/png": "[encoded data removed]"
    }
   },
   "cell_type": "markdown",
   "id": "25014175",
   "metadata": {},
   "source": [
    "## ___📚Variables en VSC - Notebooks📚___\n",
    "----------------------------\n",
    "\n",
    "VSC ordena todas las variables utilizadas dentro de una tabla.\n",
    "\n",
    "En dado caso que se lleguen a necesitar ubicarlas rapido. Localizadas en la parte superios.\n",
    "\n",
    "⬆️⬆️⬆️⬆️⬆️⬆️⬆️⬆️⬆️\n",
    "\n",
    "![image.png](attachment:image.png) "
   ]
  },
  {
   "attachments": {
    "image-2.png": {
     "image/png": "[encoded data removed]"
    }
   },
   "cell_type": "markdown",
   "id": "20b33e70",
   "metadata": {},
   "source": [
    "## ___🗂️Exportar como Python___\n",
    "----------------------------\n",
    "\n",
    "Tambien es posible exportar como Python\n",
    "\n",
    "Y todos los comentarios que se hayan puesto, quedan justo como eso. Comentarios.\n",
    "\n",
    "La opcion aparece en la derecha de la parte superior.\n",
    "\n",
    "![image-2.png](attachment:image-2.png)\n",
    "\n"
   ]
  },
  {
   "cell_type": "markdown",
   "id": "c6c73657",
   "metadata": {},
   "source": []
  }
 ],
 "metadata": {
  "kernelspec": {
   "display_name": "py35",
   "language": "python",
   "name": "python3"
  },
  "language_info": {
   "name": "python",
   "version": "3.11.5"
  }
 },
 "nbformat": 4,
 "nbformat_minor": 5
}
