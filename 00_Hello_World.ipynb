{
 "cells": [
  {
   "cell_type": "markdown",
   "id": "ac1f3e47",
   "metadata": {},
   "source": [
    "# 🖥️TEST"
   ]
  },
  {
   "cell_type": "code",
   "execution_count": null,
   "id": "c33b38a8",
   "metadata": {},
   "outputs": [],
   "source": [
    "print(\"Hello World\")\n"
   ]
  }
 ],
 "metadata": {
  "kernelspec": {
   "display_name": "py35",
   "language": "python",
   "name": "python3"
  },
  "language_info": {
   "name": "python",
   "version": "3.11.5"
  }
 },
 "nbformat": 4,
 "nbformat_minor": 5
}
