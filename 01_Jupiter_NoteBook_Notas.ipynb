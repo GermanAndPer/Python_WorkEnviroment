{
 "cells": [
  {
   "cell_type": "markdown",
   "metadata": {
    "id": "icd4QeF65Z8Q"
   },
   "source": [
    "# ___🪐📚Jupyter NoteBooks📚🪐___"
   ]
  },
  {
   "cell_type": "markdown",
   "metadata": {
    "id": "U1c5UE9q6JaJ"
   },
   "source": [
    "## __Introducción__"
   ]
  },
  {
   "cell_type": "markdown",
   "metadata": {
    "id": "oVZCrChJ0bm9"
   },
   "source": [
    "Los NoteBooks se crearon para hacer mas dinamica la creación y evalaución del Código de Python. Ayuda en el famoso proceso **REPL**. *(Lectura | Evaluación | Impresión | Bucle)*\n",
    "\n",
    "De los principales beneficios que ofrece **Google Colab** es que ya está configurado para empezar a usarlo. No es necesario que tu instales nada. Excepto las librerias que vayas a necesitar."
   ]
  },
  {
   "cell_type": "markdown",
   "metadata": {
    "id": "hB2QjCaHACO4"
   },
   "source": [
    "*******************************************************************"
   ]
  },
  {
   "cell_type": "markdown",
   "metadata": {
    "id": "hzjb803x5T39"
   },
   "source": [
    "## ___Python___"
   ]
  },
  {
   "cell_type": "markdown",
   "metadata": {
    "id": "bZcXIv496jrX"
   },
   "source": [
    "### ___Texto___"
   ]
  },
  {
   "cell_type": "markdown",
   "metadata": {
    "id": "ztGkS4gz7CQR"
   },
   "source": [
    "En los NB podemos hacer muchas cosas. Una de las principales es escribir codigo de Python y ejecutarlo al momento."
   ]
  },
  {
   "cell_type": "code",
   "execution_count": null,
   "metadata": {
    "colab": {
     "base_uri": "https://localhost:8080/"
    },
    "executionInfo": {
     "elapsed": 20,
     "status": "ok",
     "timestamp": 1749005801933,
     "user": {
      "displayName": "German Andres Perez",
      "userId": "08689033461706810993"
     },
     "user_tz": 360
    },
    "id": "ppKVl6y7zLjd",
    "outputId": "0ece00e6-a8ad-41e1-d087-590afcfe31ea"
   },
   "outputs": [],
   "source": [
    "#Mi primer linea de Codigo.\n",
    "print(\"Hello World\")"
   ]
  },
  {
   "cell_type": "markdown",
   "metadata": {
    "id": "mv1jhzGf7YrR"
   },
   "source": [
    "### ___Operaciones Matematicas___"
   ]
  },
  {
   "cell_type": "markdown",
   "metadata": {
    "id": "GU_W6Egp5OvF"
   },
   "source": [
    "Se pueden hacer operaciones matematicas."
   ]
  },
  {
   "cell_type": "code",
   "execution_count": null,
   "metadata": {
    "colab": {
     "base_uri": "https://localhost:8080/"
    },
    "executionInfo": {
     "elapsed": 6,
     "status": "ok",
     "timestamp": 1749006759432,
     "user": {
      "displayName": "German Andres Perez",
      "userId": "08689033461706810993"
     },
     "user_tz": 360
    },
    "id": "cgoz4_Tj7Nfa",
    "outputId": "6d58f880-6f7c-4be0-c671-e2552a507307"
   },
   "outputs": [],
   "source": [
    " 5 * 5"
   ]
  },
  {
   "cell_type": "markdown",
   "metadata": {
    "id": "wjqrjv4472EW"
   },
   "source": [
    "### ___GIF e Imagenes___"
   ]
  },
  {
   "cell_type": "markdown",
   "metadata": {
    "id": "LxD-nWmH7-Db"
   },
   "source": [
    "Puedes adjuntar imagenes y Gifs para hacer mas enfacis en ciertas partes de tus notebooks."
   ]
  },
  {
   "cell_type": "markdown",
   "metadata": {
    "id": "FpQkIQfl9ktD"
   },
   "source": [
    "![Link text](https://media1.giphy.com/media/v1.Y2lkPTc5MGI3NjExMm5iZjE2aTZ2bDV0czF1b2o0Z3NsenVyNmY2emtoazdyZG0weDljeSZlcD12MV9pbnRlcm5hbF9naWZfYnlfaWQmY3Q9Zw/WiM5K1e9MtEic/giphy.gif)"
   ]
  },
  {
   "cell_type": "markdown",
   "metadata": {
    "id": "YOPV1DBs97Vj"
   },
   "source": [
    "![Prueba](https://letraslibres.com/wp-content/uploads/2016/05/secretosdemrrobot.jpg)"
   ]
  },
  {
   "cell_type": "markdown",
   "metadata": {
    "id": "fryyernv-Yk2"
   },
   "source": [
    "### Variables"
   ]
  },
  {
   "cell_type": "markdown",
   "metadata": {
    "id": "YxbJrvej-cYZ"
   },
   "source": [
    "Tambien se pueden aguardar variables para usarlas mas adelante."
   ]
  },
  {
   "cell_type": "code",
   "execution_count": null,
   "metadata": {
    "id": "3KvTFMC086-b"
   },
   "outputs": [],
   "source": [
    "var2 = 5"
   ]
  },
  {
   "cell_type": "code",
   "execution_count": null,
   "metadata": {
    "id": "K6kVH6vB_G7N"
   },
   "outputs": [],
   "source": [
    "var3 = 5"
   ]
  },
  {
   "cell_type": "markdown",
   "metadata": {
    "id": "TPms4FhnVTqa"
   },
   "source": [
    "__❗❗Importante❗❗__\n",
    "\n",
    "Si no ejecutas donde se guarda la variable, no se habrá aguardado.\n",
    "Por lo que si la necesitas en el futuro, es importante ejecutarla desde antes o desde el principio."
   ]
  },
  {
   "cell_type": "code",
   "execution_count": null,
   "metadata": {
    "colab": {
     "base_uri": "https://localhost:8080/"
    },
    "executionInfo": {
     "elapsed": 6,
     "status": "ok",
     "timestamp": 1749007932799,
     "user": {
      "displayName": "German Andres Perez",
      "userId": "08689033461706810993"
     },
     "user_tz": 360
    },
    "id": "yYqsFwlR_KX9",
    "outputId": "d726493f-fec1-4ee4-f9c6-61e88ee3c935"
   },
   "outputs": [],
   "source": [
    "resultado = var2 + var3\n",
    "print(resultado)"
   ]
  },
  {
   "cell_type": "markdown",
   "metadata": {
    "id": "z9kFOL9gAWcW"
   },
   "source": [
    "*************************************"
   ]
  },
  {
   "cell_type": "markdown",
   "metadata": {
    "id": "ED_M529BXjAB"
   },
   "source": [
    "## ___Linea de Comandos___ 👨‍💻"
   ]
  },
  {
   "cell_type": "markdown",
   "metadata": {
    "id": "cefCpB0GYGau"
   },
   "source": [
    "Para llamar a la linea de comandos se utiliza el simbolo:\n",
    "\n",
    "__❗__"
   ]
  },
  {
   "cell_type": "code",
   "execution_count": null,
   "metadata": {
    "colab": {
     "base_uri": "https://localhost:8080/"
    },
    "executionInfo": {
     "elapsed": 110,
     "status": "ok",
     "timestamp": 1749333047398,
     "user": {
      "displayName": "German Andres Perez",
      "userId": "08689033461706810993"
     },
     "user_tz": 360
    },
    "id": "Sfgg-YvuAKj1",
    "outputId": "06f1c111-ef28-4c2d-87bb-3843fa20af37"
   },
   "outputs": [],
   "source": [
    "!ls\n",
    "#List"
   ]
  },
  {
   "cell_type": "code",
   "execution_count": null,
   "metadata": {
    "colab": {
     "base_uri": "https://localhost:8080/"
    },
    "executionInfo": {
     "elapsed": 106,
     "status": "ok",
     "timestamp": 1749333048758,
     "user": {
      "displayName": "German Andres Perez",
      "userId": "08689033461706810993"
     },
     "user_tz": 360
    },
    "id": "DXq63QjhXnGJ",
    "outputId": "3a7739c5-da4e-47e9-c658-96e6c7eef0cb"
   },
   "outputs": [],
   "source": [
    "!pwd\n",
    "#Print Working Directory"
   ]
  },
  {
   "cell_type": "markdown",
   "metadata": {
    "id": "o2SoY963Z9MX"
   },
   "source": [
    "### Librerias 📚___"
   ]
  },
  {
   "cell_type": "markdown",
   "metadata": {
    "id": "4v3ALSO_Yv1T"
   },
   "source": [
    "Esto es especialmente importante si vamos a trabajar con librerias. 📚 \\\n",
    "Pues aunque Google Colab ya tiene varias librerias nosotros podemos instalar mas dependeiendo de la necesidad. 👨‍💻⌨️📚"
   ]
  },
  {
   "cell_type": "code",
   "execution_count": null,
   "metadata": {
    "colab": {
     "base_uri": "https://localhost:8080/"
    },
    "executionInfo": {
     "elapsed": 3528,
     "status": "ok",
     "timestamp": 1749333485625,
     "user": {
      "displayName": "German Andres Perez",
      "userId": "08689033461706810993"
     },
     "user_tz": 360
    },
    "id": "V8BdjMrWZbQA",
    "outputId": "460bb288-81a4-4ad8-ef6c-156e0defb560"
   },
   "outputs": [],
   "source": [
    "!pip install session-info"
   ]
  },
  {
   "cell_type": "markdown",
   "metadata": {
    "id": "FMNpSzoBZsRp"
   },
   "source": [
    "Una vez descargada, utilizamos el comando ___Import___ para llamar a sus funciones y posteriormente utilizar todas las que necesites."
   ]
  },
  {
   "cell_type": "code",
   "execution_count": null,
   "metadata": {
    "executionInfo": {
     "elapsed": 9,
     "status": "ok",
     "timestamp": 1749333662938,
     "user": {
      "displayName": "German Andres Perez",
      "userId": "08689033461706810993"
     },
     "user_tz": 360
    },
    "id": "kejlZfTbaNzf"
   },
   "outputs": [],
   "source": [
    "import session_info"
   ]
  },
  {
   "cell_type": "code",
   "execution_count": null,
   "metadata": {
    "colab": {
     "base_uri": "https://localhost:8080/",
     "height": 332
    },
    "executionInfo": {
     "elapsed": 201,
     "status": "ok",
     "timestamp": 1749333779026,
     "user": {
      "displayName": "German Andres Perez",
      "userId": "08689033461706810993"
     },
     "user_tz": 360
    },
    "id": "HNgpnbreafoC",
    "outputId": "866aa3b4-2057-469d-b793-ba37f7dc5cb4"
   },
   "outputs": [],
   "source": [
    "session_info.show()\n",
    "#La plataforma nos ayudará sugiriendo algunos de los metodos que podemos utilizar de la libreria importada."
   ]
  },
  {
   "cell_type": "markdown",
   "metadata": {
    "id": "hXpmaGkdbOE3"
   },
   "source": [
    "## ___Ciencia de Datos___ 👨‍💻🧪📚\n",
    "\n",
    "1.   Elemento de la lista\n",
    "2.   Elemento de la lista\n",
    "\n"
   ]
  },
  {
   "cell_type": "markdown",
   "metadata": {
    "id": "t7YVaLvMb2nx"
   },
   "source": [
    "### __Carga de Archivos__ 🗂️📄\n",
    "Se pueden subir archivos arrastrandolos o indicando manualmente su posicion.\n",
    "Una vez cargado, se pueden analizar como si fueran archivos de excel.\n"
   ]
  },
  {
   "cell_type": "code",
   "execution_count": null,
   "metadata": {
    "colab": {
     "base_uri": "https://localhost:8080/"
    },
    "executionInfo": {
     "elapsed": 111,
     "status": "ok",
     "timestamp": 1749334519005,
     "user": {
      "displayName": "German Andres Perez",
      "userId": "08689033461706810993"
     },
     "user_tz": 360
    },
    "id": "RIJWMIembYoT",
    "outputId": "9447bdea-b243-4fe6-9217-bb6e863dcd94"
   },
   "outputs": [],
   "source": [
    "!cat /content/sample_data/README.md\n",
    "#CAT para lectura de archivos\n",
    "#Ruta completa de archivo incluyendo el nombre de archivo"
   ]
  },
  {
   "cell_type": "markdown",
   "metadata": {
    "id": "Gh8-6zNfeRoJ"
   },
   "source": [
    "Al importar los archivos, se van a borrar al poco tiempo. 🗑️⏱️\n",
    "\n",
    "En caso de necesitar que el archivo permaneza, es necesario subirlo a la __OneDrive__. Una vez cargado, se debe de linkear al archivo de GoogleColab que se quiera vincular."
   ]
  },
  {
   "cell_type": "markdown",
   "metadata": {
    "id": "xi3A59YxgNj8"
   },
   "source": [
    "### ___Librerías para Ciencia de Datos___ 👨‍💻🧪📚\n",
    "\n",
    "Google Colab ya cuenta con las librerias mas famosas para poder trabajar. Por lo que no es necesario instalarlas.\n",
    "\n",
    "Siendo estas:\n",
    "\n",
    "\n",
    "📊 ___matplotlib___: Generación de gráficos a partir de listas o arrays.\n",
    "\n",
    "🧑‍💻 ___numpy___: Cómputo científico para la manipulación de vectores.\n",
    "\n",
    "🧑‍💻 ___pandas___: Manipulación y análisis de datos de tablas y series temporales.\n",
    "\n",
    "🧑‍💻 ___scipy___: Herramientas y algoritmos matemáticos.\n",
    "\n",
    "📊 ___seaborn___: Visualización de datos estadísticos."
   ]
  },
  {
   "cell_type": "code",
   "execution_count": null,
   "metadata": {
    "id": "GWuGBH__fbD9"
   },
   "outputs": [],
   "source": [
    "# Solo en caso de necesitarlas, lo unico que necesitamos es importarlas\n",
    "import matplotlib.pyplot as plt\n",
    "import numpy as np\n",
    "import pandas as pd\n",
    "import scipy as sc\n",
    "import seaborn as sns"
   ]
  },
  {
   "cell_type": "markdown",
   "metadata": {
    "id": "tnITkNy1iA2W"
   },
   "source": [
    "###  📊 ___Gráficas___\n",
    "\n",
    "Aunque nosotros podamos escribir todo el codigo que necesitemos para generar un grafico u otro, __Google Colab__ nos ofrece una variedad de plantillas que podemos utilizar al momento de estar trabajando para ahorrar tiempo.\n",
    "\n",
    "A la izquierda donde aparece los simbolos de\n",
    "\n",
    "# ___<>___\n",
    "# ⬅️⬅️\n",
    "\n",
    "Solo ponemos el nombre del grafico que necesitemos e importará el código.\n",
    "Lo unico que se necesitará, será darle los parametros de nuestra base para que haga el correcto analisis."
   ]
  },
  {
   "cell_type": "code",
   "execution_count": null,
   "metadata": {
    "id": "INhGIscHkE-H"
   },
   "outputs": [],
   "source": []
  },
  {
   "cell_type": "code",
   "execution_count": null,
   "metadata": {
    "colab": {
     "base_uri": "https://localhost:8080/",
     "height": 368
    },
    "executionInfo": {
     "elapsed": 3231,
     "status": "ok",
     "timestamp": 1749336263291,
     "user": {
      "displayName": "German Andres Perez",
      "userId": "08689033461706810993"
     },
     "user_tz": 360
    },
    "id": "qjVyHEWzkPMg",
    "outputId": "c7bed27e-31a3-4f1e-95e4-a244b8d293ee"
   },
   "outputs": [],
   "source": [
    "# load an example dataset\n",
    "from vega_datasets import data\n",
    "cars = data.cars()\n",
    "\n",
    "# plot the dataset, referencing dataframe column names\n",
    "import altair as alt\n",
    "alt.Chart(cars).mark_bar().encode(\n",
    "  x=alt.X('Miles_per_Gallon', bin=True),\n",
    "  y='count()',\n",
    ")"
   ]
  },
  {
   "cell_type": "markdown",
   "metadata": {
    "id": "Qmx0dTIxk7zn"
   },
   "source": [
    "### ___Atajos___ ⌨️\n",
    "\n",
    "Para abrir la barra de Comandos en esta plataforma presionammos:\n",
    "\n",
    "## ___CONTROL + SHIFT + P___\n",
    "La que nos habilitará una cuadro de Dialogo donde podremos poner lo que necesitemos para que despues ejecutte dicha funcion.\n",
    "\n",
    "## O tambien, para mostrar los atajos:\n",
    "\n",
    "## ___CONTROL + M + H___\n"
   ]
  }
 ],
 "metadata": {
  "colab": {
   "authorship_tag": "ABX9TyNQ/puFi+O94hWjABMrNH9N",
   "provenance": [],
   "toc_visible": true
  },
  "kernelspec": {
   "display_name": "py35",
   "language": "python",
   "name": "python3"
  },
  "language_info": {
   "codemirror_mode": {
    "name": "ipython",
    "version": 3
   },
   "file_extension": ".py",
   "mimetype": "text/x-python",
   "name": "python",
   "nbconvert_exporter": "python",
   "pygments_lexer": "ipython3",
   "version": "3.11.5"
  }
 },
 "nbformat": 4,
 "nbformat_minor": 0
}
