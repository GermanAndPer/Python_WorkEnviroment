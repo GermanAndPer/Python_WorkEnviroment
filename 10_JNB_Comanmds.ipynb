{
 "cells": [
  {
   "cell_type": "markdown",
   "id": "d203c60f",
   "metadata": {},
   "source": [
    "Los comandos de JNB\n"
   ]
  }
 ],
 "metadata": {
  "language_info": {
   "name": "python"
  }
 },
 "nbformat": 4,
 "nbformat_minor": 5
}
